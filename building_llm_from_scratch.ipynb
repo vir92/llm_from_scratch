{
  "nbformat": 4,
  "nbformat_minor": 0,
  "metadata": {
    "colab": {
      "provenance": [],
      "gpuType": "T4",
      "mount_file_id": "1OzPXVquOMnPsth8jzpBpXvRL-BUOF2Bu",
      "authorship_tag": "ABX9TyPVns7gBuEl/Ficnu01vcvm",
      "include_colab_link": true
    },
    "kernelspec": {
      "name": "python3",
      "display_name": "Python 3"
    },
    "language_info": {
      "name": "python"
    },
    "accelerator": "GPU"
  },
  "cells": [
    {
      "cell_type": "markdown",
      "metadata": {
        "id": "view-in-github",
        "colab_type": "text"
      },
      "source": [
        "<a href=\"https://colab.research.google.com/github/vir92/llm_from_scratch/blob/main/building_llm_from_scratch.ipynb\" target=\"_parent\"><img src=\"https://colab.research.google.com/assets/colab-badge.svg\" alt=\"Open In Colab\"/></a>"
      ]
    },
    {
      "cell_type": "code",
      "execution_count": 10,
      "metadata": {
        "id": "h_3S4sabNHgI",
        "colab": {
          "base_uri": "https://localhost:8080/"
        },
        "outputId": "92cf24ab-7d76-43a3-9949-da52d1b278aa"
      },
      "outputs": [
        {
          "output_type": "stream",
          "name": "stdout",
          "text": [
            "cuda\n"
          ]
        }
      ],
      "source": [
        "import torch\n",
        "device = 'cuda' if torch.cuda.is_available() else 'cpu'\n",
        "print(device)\n",
        "block_size = 8\n",
        "batch_size = 4"
      ]
    },
    {
      "cell_type": "code",
      "source": [
        "with open('the_wizard_of_oz.txt','r',encoding = 'utf8') as f:\n",
        "      text = f.read()\n",
        "chars = sorted(set(text))\n",
        "print(chars)\n",
        "print(len(chars))\n"
      ],
      "metadata": {
        "colab": {
          "base_uri": "https://localhost:8080/"
        },
        "id": "J-K5fIokX47s",
        "outputId": "c3b3b0ea-4086-40e6-ac9f-4c55db40d8e6"
      },
      "execution_count": 11,
      "outputs": [
        {
          "output_type": "stream",
          "name": "stdout",
          "text": [
            "['\\n', ' ', '!', '&', '(', ')', ',', '-', '.', '0', '1', '9', ':', ';', '?', 'A', 'B', 'C', 'D', 'E', 'F', 'G', 'H', 'I', 'J', 'K', 'L', 'M', 'N', 'O', 'P', 'Q', 'R', 'S', 'T', 'U', 'V', 'W', 'X', 'Y', 'Z', 'a', 'b', 'c', 'd', 'e', 'f', 'g', 'h', 'i', 'j', 'k', 'l', 'm', 'n', 'o', 'p', 'q', 'r', 's', 't', 'u', 'v', 'w', 'x', 'y', 'z', '—', '‘', '’', '“', '”', '\\ufeff']\n",
            "73\n"
          ]
        }
      ]
    },
    {
      "cell_type": "code",
      "source": [
        "string_to_int = {ch:i for i,ch in enumerate(chars)}\n",
        "int_to_string = {i:ch for i,ch in enumerate(chars)}\n",
        "encode = lambda s:[string_to_int[c] for c in s]\n",
        "decode = lambda l: ''.join(int_to_string[i] for i in l)\n",
        "\n",
        "data = torch.tensor(encode(text), dtype = torch.long)\n",
        "print(data[:100])\n",
        "print(decode(data[:100].tolist()))"
      ],
      "metadata": {
        "colab": {
          "base_uri": "https://localhost:8080/"
        },
        "id": "SNdgs8GVbLCi",
        "outputId": "82327528-f5f7-4b18-9125-061537a787ef"
      },
      "execution_count": 12,
      "outputs": [
        {
          "output_type": "stream",
          "name": "stdout",
          "text": [
            "tensor([72,  0,  0, 34, 48, 45,  1, 37, 55, 54, 44, 45, 58, 46, 61, 52,  1, 37,\n",
            "        49, 66, 41, 58, 44,  1, 55, 46,  1, 29, 66,  0,  0, 42, 65,  1, 26,  8,\n",
            "         1, 20, 58, 41, 54, 51,  1, 16, 41, 61, 53,  0,  0,  0, 34, 48, 49, 59,\n",
            "         1, 42, 55, 55, 51,  1, 49, 59,  1, 44, 45, 44, 49, 43, 41, 60, 45, 44,\n",
            "         1, 60, 55,  1, 53, 65,  1, 47, 55, 55, 44,  1, 46, 58, 49, 45, 54, 44,\n",
            "         1,  3,  1, 43, 55, 53, 58, 41, 44, 45])\n",
            "﻿\n",
            "\n",
            "The Wonderful Wizard of Oz\n",
            "\n",
            "by L. Frank Baum\n",
            "\n",
            "\n",
            "This book is dedicated to my good friend & comrade\n"
          ]
        }
      ]
    },
    {
      "cell_type": "code",
      "source": [
        "n = int(0.8*len(data))\n",
        "train_data = data[:n]\n",
        "val_data = data[n:]"
      ],
      "metadata": {
        "id": "151K6AbwxlHa"
      },
      "execution_count": 13,
      "outputs": []
    },
    {
      "cell_type": "code",
      "source": [
        "\n",
        "x = train_data[:block_size]\n",
        "y = train_data[1:block_size+1]\n",
        "\n",
        "for t in range(block_size):\n",
        "    context = x[:t+1]\n",
        "    target = y[t]\n",
        "    print('when input is ', context, 'target is', target)"
      ],
      "metadata": {
        "id": "396RBdBucNs_",
        "colab": {
          "base_uri": "https://localhost:8080/"
        },
        "outputId": "259e9f64-cf87-4a6c-edf3-776098b463fe"
      },
      "execution_count": 14,
      "outputs": [
        {
          "output_type": "stream",
          "name": "stdout",
          "text": [
            "when input is  tensor([72]) target is tensor(0)\n",
            "when input is  tensor([72,  0]) target is tensor(0)\n",
            "when input is  tensor([72,  0,  0]) target is tensor(34)\n",
            "when input is  tensor([72,  0,  0, 34]) target is tensor(48)\n",
            "when input is  tensor([72,  0,  0, 34, 48]) target is tensor(45)\n",
            "when input is  tensor([72,  0,  0, 34, 48, 45]) target is tensor(1)\n",
            "when input is  tensor([72,  0,  0, 34, 48, 45,  1]) target is tensor(37)\n",
            "when input is  tensor([72,  0,  0, 34, 48, 45,  1, 37]) target is tensor(55)\n"
          ]
        }
      ]
    },
    {
      "cell_type": "code",
      "source": [],
      "metadata": {
        "id": "N4_SvKHHxg5w"
      },
      "execution_count": 14,
      "outputs": []
    }
  ]
}